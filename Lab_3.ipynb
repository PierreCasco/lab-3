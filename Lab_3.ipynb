{
  "nbformat": 4,
  "nbformat_minor": 0,
  "metadata": {
    "colab": {
      "name": "Lab-3.ipynb",
      "version": "0.3.2",
      "provenance": [],
      "include_colab_link": true
    },
    "kernelspec": {
      "name": "python3",
      "display_name": "Python 3"
    }
  },
  "cells": [
    {
      "cell_type": "markdown",
      "metadata": {
        "id": "view-in-github",
        "colab_type": "text"
      },
      "source": [
        "<a href=\"https://colab.research.google.com/github/PierreCasco/lab-3/blob/master/Lab_3.ipynb\" target=\"_parent\"><img src=\"https://colab.research.google.com/assets/colab-badge.svg\" alt=\"Open In Colab\"/></a>"
      ]
    },
    {
      "metadata": {
        "id": "21GbluF0p-PO",
        "colab_type": "text"
      },
      "cell_type": "markdown",
      "source": [
        " Coaching Case Study\n",
        " \n",
        " Pierre Casco "
      ]
    },
    {
      "metadata": {
        "id": "ODrdJBGapoYF",
        "colab_type": "code",
        "colab": {}
      },
      "cell_type": "code",
      "source": [
        "#Import functions\n",
        "import numpy as np\n",
        "import pandas as pd"
      ],
      "execution_count": 0,
      "outputs": []
    },
    {
      "metadata": {
        "id": "IQjkxd4pqK-d",
        "colab_type": "code",
        "outputId": "488ead7e-0882-4f8c-8f5c-4d2108b5a4ad",
        "colab": {
          "base_uri": "https://localhost:8080/",
          "height": 238
        }
      },
      "cell_type": "code",
      "source": [
        "#Create URL for Coaches dataset from github\n",
        "url = 'https://raw.githubusercontent.com/2SUBDA/IST_718/master/Coaches9.csv'\n",
        "#Create dataframe of Coaches dataset\n",
        "df = pd.read_csv(url)\n",
        "#View first 5 rows of dataset\n",
        "print(df.head(5))"
      ],
      "execution_count": 3,
      "outputs": [
        {
          "output_type": "stream",
          "text": [
            "                  School Conference              Coach    SchoolPay  \\\n",
            "0              Air Force   Mt. West       Troy Calhoun       885000   \n",
            "1                  Akron        MAC       Terry Bowden    $411,000    \n",
            "2                Alabama        SEC         Nick Saban  $8,307,000    \n",
            "3  Alabama at Birmingham      C-USA         Bill Clark    $900,000    \n",
            "4      Appalachian State   Sun Belt  Scott Satterfield    $712,500    \n",
            "\n",
            "      TotalPay        Bonus  BonusPaid AssistantPay        Buyout  \n",
            "0       885000       247000         --          $0             --  \n",
            "1    $412,500     $225,000    $50,000           $0      $688,500   \n",
            "2  $8,307,000   $1,100,000   $500,000           $0   $33,600,000   \n",
            "3    $900,000     $950,000   $165,471           $0    $3,847,500   \n",
            "4    $712,500     $295,000   $145,000           $0    $2,160,417   \n"
          ],
          "name": "stdout"
        }
      ]
    }
  ]
}