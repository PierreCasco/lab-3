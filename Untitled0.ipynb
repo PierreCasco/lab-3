{
  "nbformat": 4,
  "nbformat_minor": 0,
  "metadata": {
    "colab": {
      "name": "Untitled0.ipynb",
      "version": "0.3.2",
      "provenance": [],
      "include_colab_link": true
    },
    "kernelspec": {
      "name": "python3",
      "display_name": "Python 3"
    }
  },
  "cells": [
    {
      "cell_type": "markdown",
      "metadata": {
        "id": "view-in-github",
        "colab_type": "text"
      },
      "source": [
        "<a href=\"https://colab.research.google.com/github/PierreCasco/lab-3/blob/master/Untitled0.ipynb\" target=\"_parent\"><img src=\"https://colab.research.google.com/assets/colab-badge.svg\" alt=\"Open In Colab\"/></a>"
      ]
    },
    {
      "metadata": {
        "id": "21GbluF0p-PO",
        "colab_type": "text"
      },
      "cell_type": "markdown",
      "source": [
        " Coaching Case Study\n",
        " \n",
        " Pierre Casco "
      ]
    },
    {
      "metadata": {
        "id": "ODrdJBGapoYF",
        "colab_type": "code",
        "colab": {}
      },
      "cell_type": "code",
      "source": [
        "#Import functions\n",
        "import numpy as np\n",
        "import pandas as pd"
      ],
      "execution_count": 0,
      "outputs": []
    },
    {
      "metadata": {
        "id": "IQjkxd4pqK-d",
        "colab_type": "code",
        "outputId": "2053b1e2-8937-45aa-9c41-7b8d5d7814db",
        "colab": {
          "base_uri": "https://localhost:8080/",
          "height": 272
        }
      },
      "cell_type": "code",
      "source": [
        "#Create URL for Coaches dataset from github\n",
        "url = 'https://raw.githubusercontent.com/2SUBDA/IST_718/master/Coaches9.csv'\n",
        "#Create dataframe of Coaches dataset\n",
        "df = pd.read_csv(url,index_col=0,parse_dates=[0])\n",
        "#View first 5 rows of dataset\n",
        "print(df.head(5))"
      ],
      "execution_count": 0,
      "outputs": [
        {
          "output_type": "stream",
          "text": [
            "                      Conference              Coach    SchoolPay     TotalPay  \\\n",
            "School                                                                          \n",
            "Air Force               Mt. West       Troy Calhoun       885000       885000   \n",
            "Akron                        MAC       Terry Bowden    $411,000     $412,500    \n",
            "Alabama                      SEC         Nick Saban  $8,307,000   $8,307,000    \n",
            "Alabama at Birmingham      C-USA         Bill Clark    $900,000     $900,000    \n",
            "Appalachian State       Sun Belt  Scott Satterfield    $712,500     $712,500    \n",
            "\n",
            "                             Bonus  BonusPaid AssistantPay        Buyout  \n",
            "School                                                                    \n",
            "Air Force                   247000         --          $0             --  \n",
            "Akron                    $225,000    $50,000           $0      $688,500   \n",
            "Alabama                $1,100,000   $500,000           $0   $33,600,000   \n",
            "Alabama at Birmingham    $950,000   $165,471           $0    $3,847,500   \n",
            "Appalachian State        $295,000   $145,000           $0    $2,160,417   \n"
          ],
          "name": "stdout"
        }
      ]
    }
  ]
}